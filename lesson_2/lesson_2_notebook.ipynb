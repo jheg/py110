{
 "cells": [
  {
   "cell_type": "code",
   "execution_count": 13,
   "id": "ee890b08-cfa4-44fb-8d13-0911281c0db3",
   "metadata": {},
   "outputs": [
    {
     "data": {
      "text/plain": [
       "['s', 'o', 'n', 'a', 'J']"
      ]
     },
     "execution_count": 13,
     "metadata": {},
     "output_type": "execute_result"
    }
   ],
   "source": [
    "sorted(\"Jason\", reverse=True)"
   ]
  },
  {
   "cell_type": "code",
   "execution_count": 8,
   "id": "a104fc56-b65f-491a-9b1c-f34c8e480c46",
   "metadata": {},
   "outputs": [
    {
     "data": {
      "text/plain": [
       "['J', 'a', 's', 'o', 'n']"
      ]
     },
     "execution_count": 8,
     "metadata": {},
     "output_type": "execute_result"
    }
   ],
   "source": [
    "list(\"Jason\")"
   ]
  },
  {
   "cell_type": "code",
   "execution_count": 8,
   "id": "5f928bdc-8779-4606-8e41-72c4fec62ecf",
   "metadata": {},
   "outputs": [
    {
     "data": {
      "text/plain": [
       "[1, 2, 4, 9, 11, 21, 107]"
      ]
     },
     "execution_count": 8,
     "metadata": {},
     "output_type": "execute_result"
    }
   ],
   "source": [
    "my_list = [2, 11, 9, 4, 107, 21, 1]\n",
    "sorted(my_list)"
   ]
  },
  {
   "cell_type": "code",
   "execution_count": 19,
   "id": "166f01a1-a7d0-44c0-8903-0bcd2ba4725f",
   "metadata": {},
   "outputs": [
    {
     "data": {
      "text/plain": [
       "['s', 'o', 'n', 'a', 'J']"
      ]
     },
     "execution_count": 19,
     "metadata": {},
     "output_type": "execute_result"
    }
   ],
   "source": [
    "name_list = [\"J\", \"a\", \"s\", \"o\", \"n\"]\n",
    "sorted(\"\".join(list(name_list)), reverse=True)"
   ]
  },
  {
   "cell_type": "code",
   "execution_count": 17,
   "id": "65e0d015-82b7-4466-8a61-8347afebadec",
   "metadata": {},
   "outputs": [
    {
     "data": {
      "text/plain": [
       "'jason'"
      ]
     },
     "execution_count": 17,
     "metadata": {},
     "output_type": "execute_result"
    }
   ],
   "source": [
    "\"jason\".lower()"
   ]
  },
  {
   "cell_type": "code",
   "execution_count": 41,
   "id": "1b02dab9-a12c-4859-9166-039849a8ecd7",
   "metadata": {},
   "outputs": [
    {
     "name": "stdout",
     "output_type": "stream",
     "text": [
      "[-16, -6, 7, 8, 9, 10, 11, 50]\n",
      "[50, 11, 10, 9, 8, 7, -6, -16]\n",
      "[-16, -6, 7, 8, 9, 10, 11, 50]\n",
      "[50, 11, 10, 9, 8, 7, -6, -16]\n",
      "[-16, -6, 10, 11, 50, 7, 8, 9]\n",
      "[-16, -6, 7, 8, 9, 10, 11, 50]\n"
     ]
    }
   ],
   "source": [
    "lst = [10, 9, -6, 11, 7, -16, 50, 8]\n",
    "# sort asc\n",
    "print(sorted(lst))\n",
    "# sort desc\n",
    "print(sorted(lst, reverse=True))\n",
    "# mutate lst\n",
    "lst.sort()\n",
    "print(lst)\n",
    "lst.sort(reverse=True)\n",
    "print(lst)\n",
    "def to_str(lst):\n",
    "    return str(lst)\n",
    "\n",
    "lst.sort(key=to_str)\n",
    "print(lst)\n",
    "lst.sort()\n",
    "print(lst)"
   ]
  },
  {
   "cell_type": "code",
   "execution_count": 49,
   "id": "8b90025c-e1bb-40b6-a111-8549714383a4",
   "metadata": {},
   "outputs": [
    {
     "name": "stdout",
     "output_type": "stream",
     "text": [
      "[{'title': 'The Book of Kells', 'author': 'Multiple Authors', 'published': '800'}, {'title': 'War and Peace', 'author': 'Leo Tolstoy', 'published': '1869'}, {'title': 'One Hundred Years of Solitude', 'author': 'Gabriel Garcia Marquez', 'published': '1967'}]\n"
     ]
    }
   ],
   "source": [
    "books = [\n",
    "    {\n",
    "        'title': 'One Hundred Years of Solitude',\n",
    "        'author': 'Gabriel Garcia Marquez',\n",
    "        'published': '1967',\n",
    "    },\n",
    "    {\n",
    "        'title': 'The Book of Kells',\n",
    "        'author': 'Multiple Authors',\n",
    "        'published': '800',\n",
    "    },\n",
    "    {\n",
    "        'title': 'War and Peace',\n",
    "        'author': 'Leo Tolstoy',\n",
    "        'published': '1869',\n",
    "    },\n",
    "]\n",
    "def sort_published(dic):\n",
    "    published = dic['published']\n",
    "    return int(published)\n",
    "\n",
    "ordered_books = sorted(books, key=sort_published)\n",
    "print(ordered_books)"
   ]
  },
  {
   "cell_type": "code",
   "execution_count": 50,
   "id": "cfe78923-7766-42d1-8ead-5eb06795b09d",
   "metadata": {},
   "outputs": [
    {
     "data": {
      "text/plain": [
       "range(2025, 1950)"
      ]
     },
     "execution_count": 50,
     "metadata": {},
     "output_type": "execute_result"
    }
   ],
   "source": [
    "range(2025,1950)"
   ]
  },
  {
   "cell_type": "code",
   "execution_count": 58,
   "id": "aa148345-0dac-417f-8849-d1f480606d3b",
   "metadata": {},
   "outputs": [
    {
     "name": "stdout",
     "output_type": "stream",
     "text": [
      "[2025, 2024, 2023, 2022, 2021, 2020, 2019, 2018, 2017, 2016, 2015, 2014, 2013, 2012, 2011, 2010, 2009, 2008, 2007, 2006, 2005, 2004, 2003, 2002, 2001, 2000, 1999, 1998, 1997, 1996, 1995, 1994, 1993, 1992, 1991, 1990, 1989, 1988, 1987, 1986, 1985, 1984, 1983, 1982, 1981, 1980, 1979, 1978, 1977, 1976, 1975, 1974, 1973, 1972, 1971, 1970, 1969, 1968, 1967, 1966, 1965, 1964, 1963, 1962, 1961, 1960, 1959, 1958, 1957, 1956, 1955, 1954, 1953, 1952, 1951]\n"
     ]
    }
   ],
   "source": [
    "my_list = list(range(2025, 1950, -1))\n",
    "print(my_list)"
   ]
  },
  {
   "cell_type": "code",
   "execution_count": 64,
   "id": "89810551-0b31-4802-b5c6-3329c9789fa4",
   "metadata": {},
   "outputs": [
    {
     "name": "stdout",
     "output_type": "stream",
     "text": [
      "[[2], [3]]\n"
     ]
    }
   ],
   "source": [
    "a = [2]\n",
    "b = [3]\n",
    "c = [a, b]\n",
    "print(c)"
   ]
  },
  {
   "cell_type": "code",
   "execution_count": 72,
   "id": "f6436560-d07a-4c80-9427-21c522b9e60f",
   "metadata": {},
   "outputs": [
    {
     "name": "stdout",
     "output_type": "stream",
     "text": [
      "Jason\n",
      "JasonHeg\n",
      "Jason\n"
     ]
    }
   ],
   "source": [
    "import copy\n",
    "name = \"Jason\"\n",
    "copy_name = copy.copy(name)\n",
    "print(copy_name)\n",
    "name = \"JasonHeg\"\n",
    "print(name)\n",
    "print(copy_name)"
   ]
  },
  {
   "cell_type": "code",
   "execution_count": 73,
   "id": "13d920f5-bbef-48b4-b0b3-2fa0364ed40f",
   "metadata": {},
   "outputs": [
    {
     "data": {
      "text/plain": [
       "'g'"
      ]
     },
     "execution_count": 73,
     "metadata": {},
     "output_type": "execute_result"
    }
   ],
   "source": [
    "lst1 = ['a', 'b', ['c', ['d', 'e', 'f', 'g']]]\n",
    "lst1[2][1][3]"
   ]
  },
  {
   "cell_type": "code",
   "execution_count": 74,
   "id": "1b77cc2c-bc0a-473d-9bca-e4385a673dbe",
   "metadata": {},
   "outputs": [
    {
     "data": {
      "text/plain": [
       "'g'"
      ]
     },
     "execution_count": 74,
     "metadata": {},
     "output_type": "execute_result"
    }
   ],
   "source": [
    "lst2 = [\n",
    "    {\n",
    "        'first': ['a', 'b', 'c'],\n",
    "        'second': ['d', 'e', 'f']\n",
    "    },\n",
    "    {\n",
    "        'third': ['g', 'h', 'i']\n",
    "    }\n",
    "]\n",
    "lst2[1]['third'][0]"
   ]
  },
  {
   "cell_type": "code",
   "execution_count": 75,
   "id": "adb5b24a-239e-49e5-87b0-dbe188d065b1",
   "metadata": {},
   "outputs": [
    {
     "data": {
      "text/plain": [
       "'g'"
      ]
     },
     "execution_count": 75,
     "metadata": {},
     "output_type": "execute_result"
    }
   ],
   "source": [
    "lst3 = [['abc'], ['def'], {'third': ['ghi']}]\n",
    "lst3[2]['third'][0][0]"
   ]
  },
  {
   "cell_type": "code",
   "execution_count": 76,
   "id": "1524c544-7f46-4ba5-8ea4-491b3d2fc264",
   "metadata": {},
   "outputs": [
    {
     "data": {
      "text/plain": [
       "'g'"
      ]
     },
     "execution_count": 76,
     "metadata": {},
     "output_type": "execute_result"
    }
   ],
   "source": [
    "dict1 = {'a': ['d', 'e'], 'b': ['f', 'g'], 'c': ['h', 'i']}\n",
    "dict1['b'][1]"
   ]
  },
  {
   "cell_type": "code",
   "execution_count": 85,
   "id": "fdcd1b72-96b6-488a-b4f6-7815ddd4b0c1",
   "metadata": {},
   "outputs": [
    {
     "data": {
      "text/plain": [
       "'g'"
      ]
     },
     "execution_count": 85,
     "metadata": {},
     "output_type": "execute_result"
    }
   ],
   "source": [
    "dict2 = {'1st': {'d': 3}, '2nd': {'e': 2, 'f': 1}, '3rd': {'g': 0}}\n",
    "list(dict2['3rd'].keys())[0]"
   ]
  },
  {
   "cell_type": "code",
   "execution_count": 89,
   "id": "74fbc96b-ce71-4880-a7f2-c52e16958501",
   "metadata": {},
   "outputs": [
    {
     "name": "stdout",
     "output_type": "stream",
     "text": [
      "[1, [2, 4], 4]\n",
      "[{'a': 1}, {'b': 2, 'c': [7, 6, 5], 'd': 4}, 4]\n",
      "{'first': [1, 2, [4]]}\n",
      "{'a': {'a': ['1', 'two', 4], 'b': 4}, 'b': 5}\n"
     ]
    }
   ],
   "source": [
    "lst1 = [1, [2, 3], 4]\n",
    "lst1[1][1] = 4\n",
    "print(lst1)\n",
    "\n",
    "lst2 = [{'a': 1}, {'b': 2, 'c': [7, 6, 5], 'd': 4}, 3]\n",
    "lst2[2] = 4\n",
    "print(lst2)\n",
    "\n",
    "dict1 = {'first': [1, 2, [3]]}\n",
    "dict1['first'][2][0] = 4\n",
    "print(dict1)\n",
    "\n",
    "dict2 = {'a': {'a': ['1', 'two', 3], 'b': 4}, 'b': 5}\n",
    "dict2['a']['a'][2] = 4\n",
    "print(dict2)"
   ]
  },
  {
   "cell_type": "code",
   "execution_count": 91,
   "id": "10359972-d29e-4a28-bdbc-177c0fb0ba35",
   "metadata": {},
   "outputs": [
    {
     "name": "stdout",
     "output_type": "stream",
     "text": [
      "2\n",
      "[3, 8]\n",
      "[4, [3, 8]]\n"
     ]
    }
   ],
   "source": [
    "a = 2\n",
    "b = [5, 8]\n",
    "lst = [a, b] # [2, [5, 8]]\n",
    "\n",
    "lst[0] += 2 # [4, [5, 8]]\n",
    "lst[1][0] -= a # [4, [1, 8]]\n",
    "\n",
    "print(a)\n",
    "print(b)\n",
    "print(lst)"
   ]
  },
  {
   "cell_type": "code",
   "execution_count": 98,
   "id": "69472f77-0890-411f-a940-f8a130ce8487",
   "metadata": {},
   "outputs": [
    {
     "name": "stdout",
     "output_type": "stream",
     "text": [
      "Herman is a 32-year-old male.\n",
      "Lily is a 30-year-old female.\n",
      "Grandpa is a 402-year-old male.\n",
      "Eddie is a 10-year-old male.\n",
      "Marilyn is a 23-year-old female.\n"
     ]
    }
   ],
   "source": [
    "munsters = {\n",
    "    'Herman':  {'age': 32,  'gender': 'male'},\n",
    "    'Lily':    {'age': 30,  'gender': 'female'},\n",
    "    'Grandpa': {'age': 402, 'gender': 'male'},\n",
    "    'Eddie':   {'age': 10,  'gender': 'male'},\n",
    "    'Marilyn': {'age': 23,  'gender': 'female'},\n",
    "}\n",
    "\n",
    "for name in munsters.keys():\n",
    "    print(f\"{name} is a {munsters[name]['age']}-year-old {munsters[name]['gender']}.\")\n",
    "    "
   ]
  },
  {
   "cell_type": "code",
   "execution_count": 100,
   "id": "54a740aa-bc24-4751-81d8-1a43cbbe66d0",
   "metadata": {},
   "outputs": [
    {
     "name": "stdout",
     "output_type": "stream",
     "text": [
      "[1, 4, 9, 16, 25]\n"
     ]
    }
   ],
   "source": [
    "nums = [1, 2, 3, 4, 5]\n",
    "squared = [num**2 for num in nums]\n",
    "print(squared)"
   ]
  },
  {
   "cell_type": "code",
   "execution_count": 101,
   "id": "5309e59b-d453-4987-bf1e-dabd8900721d",
   "metadata": {},
   "outputs": [
    {
     "name": "stdout",
     "output_type": "stream",
     "text": [
      "[2, 4]\n"
     ]
    }
   ],
   "source": [
    "nums = [1, 2, 3, 4, 5] \n",
    "evens = [] \n",
    "for num in nums: \n",
    "\tif num % 2 == 0: \n",
    "\t\tevens.append(num) \n",
    "\n",
    "print(evens) # [2, 4]"
   ]
  },
  {
   "cell_type": "code",
   "execution_count": 102,
   "id": "34ca6982-d740-4439-a0c9-cbddd5c34913",
   "metadata": {},
   "outputs": [
    {
     "name": "stdout",
     "output_type": "stream",
     "text": [
      "[2, 4]\n"
     ]
    }
   ],
   "source": [
    "nums = [1, 2, 3, 4, 5]\n",
    "evens = [num for num in nums if num % 2 == 0]\n",
    "print(evens)"
   ]
  },
  {
   "cell_type": "code",
   "execution_count": 103,
   "id": "287ddd92-1516-47ae-a805-f9125819d3b3",
   "metadata": {},
   "outputs": [
    {
     "name": "stdout",
     "output_type": "stream",
     "text": [
      "{2, 4}\n"
     ]
    }
   ],
   "source": [
    "nums = [1,1,2,2,3,3,4,4,5]\n",
    "evens = {num for num in nums if num % 2 == 0}\n",
    "print(evens)"
   ]
  },
  {
   "cell_type": "code",
   "execution_count": 104,
   "id": "65fd1526-5b26-478c-aaa3-655d8ddd3d5f",
   "metadata": {},
   "outputs": [
    {
     "name": "stdout",
     "output_type": "stream",
     "text": [
      "{'apple': 5, 'banana': 6, 'cherry': 6}\n"
     ]
    }
   ],
   "source": [
    "fruits = ['apple', 'banana', 'cherry']\n",
    "fruit_lengths = {fruit: len(fruit) for fruit in fruits}\n",
    "print(fruit_lengths)"
   ]
  },
  {
   "cell_type": "code",
   "execution_count": 106,
   "id": "665954b9-ae00-4e16-b301-3c37ee7f237c",
   "metadata": {},
   "outputs": [
    {
     "name": "stdout",
     "output_type": "stream",
     "text": [
      "[1, 2, 3, 4, 5, 6, 7, 8, 9]\n"
     ]
    }
   ],
   "source": [
    "matrix = [\n",
    "    [1, 2, 3],\n",
    "    [4, 5, 6],\n",
    "    [7, 8, 9]\n",
    "]\n",
    "\n",
    "flattened_matrix = [num \n",
    "                    for sub_list in matrix \n",
    "                    for num in sub_list]\n",
    "\n",
    "print(flattened_matrix)  # [1, 2, 3, 4, 5, 6, 7, 8, 9]"
   ]
  },
  {
   "cell_type": "code",
   "execution_count": 109,
   "id": "5d1d339d-0c9c-4ae3-a4f4-a338e573956e",
   "metadata": {},
   "outputs": [
    {
     "name": "stdout",
     "output_type": "stream",
     "text": [
      "444\n"
     ]
    }
   ],
   "source": [
    "munsters = {\n",
    "    'Herman':  {'age': 32,  'gender': 'male'},\n",
    "    'Lily':    {'age': 30,  'gender': 'female'},\n",
    "    'Grandpa': {'age': 402, 'gender': 'male'},\n",
    "    'Eddie':   {'age': 10,  'gender': 'male'},\n",
    "    'Marilyn': {'age': 23,  'gender': 'female'},\n",
    "}\n",
    "total_age = 0\n",
    "for name, item in munsters.items():\n",
    "    if item['gender'] == 'male':\n",
    "        total_age += item['age']\n",
    "\n",
    "print(total_age)"
   ]
  },
  {
   "cell_type": "code",
   "execution_count": 111,
   "id": "c15dabf8-d75e-48ac-8a12-577ff93a286c",
   "metadata": {},
   "outputs": [
    {
     "name": "stdout",
     "output_type": "stream",
     "text": [
      "444\n"
     ]
    }
   ],
   "source": [
    "munsters = {\n",
    "    'Herman':  {'age': 32,  'gender': 'male'},\n",
    "    'Lily':    {'age': 30,  'gender': 'female'},\n",
    "    'Grandpa': {'age': 402, 'gender': 'male'},\n",
    "    'Eddie':   {'age': 10,  'gender': 'male'},\n",
    "    'Marilyn': {'age': 23,  'gender': 'female'},\n",
    "}\n",
    "ages = [item['age'] for name, item in munsters.items() if item['gender'] == 'male']\n",
    "total_age = sum(ages)\n",
    "print(total_age)"
   ]
  },
  {
   "cell_type": "code",
   "execution_count": 122,
   "id": "0537dcaf-ece9-4d37-97b8-d030a1501dca",
   "metadata": {},
   "outputs": [
    {
     "name": "stdout",
     "output_type": "stream",
     "text": [
      "[['a', 'b', 'c'], [-3, 2, 11], ['black', 'blue', 'green']]\n"
     ]
    }
   ],
   "source": [
    "lst = [['b', 'c', 'a'], [2, 11, -3], ['blue', 'black', 'green']]\n",
    "\n",
    "new_list = []\n",
    "for list in lst:\n",
    "    new_list.append(sorted(list))\n",
    "\n",
    "print(new_list)"
   ]
  },
  {
   "cell_type": "code",
   "execution_count": 126,
   "id": "30536cda-decd-412f-8c42-64dd3624a93a",
   "metadata": {},
   "outputs": [
    {
     "ename": "SyntaxError",
     "evalue": "cannot assign to function call (958497919.py, line 2)",
     "output_type": "error",
     "traceback": [
      "\u001b[0;36m  Cell \u001b[0;32mIn[126], line 2\u001b[0;36m\u001b[0m\n\u001b[0;31m    new_list = [sorted(sub_lst) for str(sub_lst) in lst]\u001b[0m\n\u001b[0m                                    ^\u001b[0m\n\u001b[0;31mSyntaxError\u001b[0m\u001b[0;31m:\u001b[0m cannot assign to function call\n"
     ]
    }
   ],
   "source": [
    "lst = [['b', 'c', 'a'], [2, 11, -3], ['blue', 'black', 'green']]\n",
    "new_list = [sorted(sub_lst) for sub_lst in lst]\n",
    "print(new_list)"
   ]
  },
  {
   "cell_type": "code",
   "execution_count": 128,
   "id": "38bc7047-cc45-4a41-a3e2-417f3e97a5aa",
   "metadata": {},
   "outputs": [
    {
     "name": "stdout",
     "output_type": "stream",
     "text": [
      "[['a', 'b', 'c'], ['-3', '11', '2'], ['black', 'blue', 'green']]\n"
     ]
    }
   ],
   "source": [
    "lst = [['b', 'c', 'a'], [2, 11, -3], ['blue', 'black', 'green']]\n",
    "new_list = []\n",
    "for sub_list in lst:\n",
    "    i = 0\n",
    "    for element in sub_list: \n",
    "        sub_list[i] = str(element)\n",
    "        i += 1\n",
    "    new_list.append(sorted(sub_list))\n",
    "print(new_list)"
   ]
  },
  {
   "cell_type": "code",
   "execution_count": 132,
   "id": "1e800051-4c86-4b06-bf8c-4e7b5dfa9a17",
   "metadata": {},
   "outputs": [
    {
     "name": "stdout",
     "output_type": "stream",
     "text": [
      "[['a', 'b', 'c'], [-3, 11, 2], ['black', 'blue', 'green']]\n"
     ]
    }
   ],
   "source": [
    "lst = [['b', 'c', 'a'], [2, 11, -3], ['blue', 'black', 'green']]\n",
    "new_list = [sorted(sub_list, key=str) for sub_list in lst]\n",
    "print(new_list)"
   ]
  },
  {
   "cell_type": "code",
   "execution_count": 133,
   "id": "7c782b31-2fcb-4cb3-881c-925ea72c518d",
   "metadata": {},
   "outputs": [
    {
     "name": "stdout",
     "output_type": "stream",
     "text": [
      "[['a', 'b', 'c'], [-3, 11, 2], ['black', 'blue', 'green']]\n"
     ]
    }
   ],
   "source": [
    "lst = [['b', 'c', 'a'], [2, 11, -3], ['blue', 'black', 'green']]\n",
    "new_list = [sorted(sublist, key=str) for sublist in lst]\n",
    "print(new_list)"
   ]
  },
  {
   "cell_type": "code",
   "execution_count": 135,
   "id": "e2b85f6a-4c40-4e8e-9e1c-017788131b76",
   "metadata": {},
   "outputs": [
    {
     "name": "stdout",
     "output_type": "stream",
     "text": [
      "{'a': 1, 'b': 'two', 'sea': {'c': 3}, 'D': ['a', 'b', 'c']}\n"
     ]
    }
   ],
   "source": [
    "lst = [\n",
    "    ['a', 1],\n",
    "    ['b', 'two'],\n",
    "    ['sea', {'c': 3}],\n",
    "    ['D', ['a', 'b', 'c']]\n",
    "]\n",
    "my_dict = {}\n",
    "for sub_list in lst:\n",
    "    my_dict[sub_list[0]] = sub_list[1]\n",
    "\n",
    "print(my_dict)\n"
   ]
  },
  {
   "cell_type": "code",
   "execution_count": 138,
   "id": "58611a22-ffb9-4641-ac85-6f35d7b1e197",
   "metadata": {},
   "outputs": [
    {
     "name": "stdout",
     "output_type": "stream",
     "text": [
      "{'a': 1, 'b': 'two', 'sea': {'c': 3}, 'D': ['a', 'b', 'c']}\n"
     ]
    }
   ],
   "source": [
    "lst = [\n",
    "    ['a', 1],\n",
    "    ['b', 'two'],\n",
    "    ['sea', {'c': 3}],\n",
    "    ['D', ['a', 'b', 'c']]\n",
    "]\n",
    "my_dict = {sub_list[0]:sub_list[1] for sub_list in lst}\n",
    "\n",
    "print(my_dict)"
   ]
  },
  {
   "cell_type": "code",
   "execution_count": 151,
   "id": "0db995fb-c84a-4d82-9401-c3d49f3122ef",
   "metadata": {},
   "outputs": [
    {
     "name": "stdout",
     "output_type": "stream",
     "text": [
      "[[[1, 8, 3], [1, 6, 7], [1, 5, 3]]]\n"
     ]
    }
   ],
   "source": [
    "lst = [[1, 6, 7], [1, 5, 3], [1, 8, 3]]\n",
    "\n",
    "def get_total(sub_list):\n",
    "    odd_numbers = [num for num in sub_list if num % 2 != 0]\n",
    "    \n",
    "    return sum(odd_numbers)\n",
    "\n",
    "ordered_lst = [sorted(lst, key=get_total)]\n",
    "print(ordered_lst)"
   ]
  },
  {
   "cell_type": "code",
   "execution_count": 141,
   "id": "45218977-f637-4f20-94a1-8d58464349c9",
   "metadata": {},
   "outputs": [
    {
     "data": {
      "text/plain": [
       "3"
      ]
     },
     "execution_count": 141,
     "metadata": {},
     "output_type": "execute_result"
    }
   ],
   "source": [
    "sum([1,2])"
   ]
  },
  {
   "cell_type": "code",
   "execution_count": 154,
   "id": "51cfcd7d-d271-4b38-b3b2-3b57fa580aed",
   "metadata": {},
   "outputs": [
    {
     "name": "stdout",
     "output_type": "stream",
     "text": [
      "[[1, 8, 3], [1, 6, 7], [1, 5, 3]]\n"
     ]
    }
   ],
   "source": [
    "lst = [[1, 6, 7], [1, 5, 3], [1, 8, 3]]\n",
    "\n",
    "def sum_odd_numbers(lst):\n",
    "    odds_total = [num for num in lst if num % 2 != 0]\n",
    "    \n",
    "    return sum(odds_total)\n",
    "\n",
    "new_lst = sorted(lst, key=sum_odd_numbers)\n",
    "print(new_lst)"
   ]
  },
  {
   "cell_type": "code",
   "execution_count": 160,
   "id": "4de08cd0-28e1-4716-9858-84b449935258",
   "metadata": {},
   "outputs": [
    {
     "name": "stdout",
     "output_type": "stream",
     "text": [
      "[{'a': 2}, {'b': 3, 'c': 4}, {'d': 5, 'e': 6, 'f': 7}]\n"
     ]
    }
   ],
   "source": [
    "lst = [{'a': 1}, {'b': 2, 'c': 3}, {'d': 4, 'e': 5, 'f': 6}]\n",
    "\n",
    "def increment_values(dictionary):\n",
    "    return {key:value + 1 for key, value in dictionary.items()}\n",
    "\n",
    "new_list = [increment_values(value) for value in lst]\n",
    "print(new_list)"
   ]
  },
  {
   "cell_type": "code",
   "execution_count": 164,
   "id": "c3183fb6-b866-418d-b975-af12aba78a38",
   "metadata": {},
   "outputs": [
    {
     "name": "stdout",
     "output_type": "stream",
     "text": [
      "[{'a': 2}, {'b': 3, 'c': 4}, {'d': 5, 'e': 6, 'f': 7}]\n"
     ]
    }
   ],
   "source": [
    "lst = [{'a': 1}, {'b': 2, 'c': 3}, {'d': 4, 'e': 5, 'f': 6}]\n",
    "\n",
    "new_list = [{key:value + 1 for key, value in dictionary.items()}\n",
    "                            for dictionary in lst]\n",
    "\n",
    "print(new_list)"
   ]
  },
  {
   "cell_type": "code",
   "execution_count": 168,
   "id": "a5e73351-f9f8-4656-921c-deeb592d1763",
   "metadata": {},
   "outputs": [
    {
     "name": "stdout",
     "output_type": "stream",
     "text": [
      "[[], [3, 12], [9], [15, 18]]\n"
     ]
    }
   ],
   "source": [
    "lst = [[2], [3, 5, 7, 12], [9], [11, 15, 18]]\n",
    "new_lst = []\n",
    "index = 0\n",
    "\n",
    "for sub_list in lst: \n",
    "    new_lst.append([])\n",
    "    for num in sub_list:\n",
    "        if num % 3 == 0:\n",
    "            new_lst[index].append(num)\n",
    "    index += 1\n",
    "\n",
    "print(new_lst)\n",
    "        "
   ]
  },
  {
   "cell_type": "code",
   "execution_count": 176,
   "id": "ec90c462-38cf-488e-b6b7-33f7e90742d8",
   "metadata": {},
   "outputs": [
    {
     "name": "stdout",
     "output_type": "stream",
     "text": [
      "[[], [3, 12], [9], [15, 18]]\n"
     ]
    }
   ],
   "source": [
    "lst = [[2], [3, 5, 7, 12], [9], [11, 15, 18]]\n",
    "\n",
    "new_lst = [[num for num in sub_list if num % 3 == 0]\n",
    "                for sub_list in lst]\n",
    "print(new_lst)"
   ]
  },
  {
   "cell_type": "code",
   "execution_count": 179,
   "id": "1081c69a-a984-4f78-9745-ad0c85f68b13",
   "metadata": {},
   "outputs": [
    {
     "name": "stdout",
     "output_type": "stream",
     "text": [
      "[[], [3, 12], [9], [15, 18]]\n"
     ]
    }
   ],
   "source": [
    "lst = [[2], [3, 5, 7, 12], [9], [11, 15, 18]]\n",
    "\n",
    "def divisble_by_3(lst):\n",
    "    return [num for num in lst if num % 3 == 0]\n",
    "\n",
    "new_lst = [divisble_by_3(sub_list) for sub_list in lst]\n",
    "print(new_lst)"
   ]
  },
  {
   "cell_type": "code",
   "execution_count": 194,
   "id": "2d172068-6f6e-4546-ba42-6daca19c9bf6",
   "metadata": {},
   "outputs": [
    {
     "name": "stdout",
     "output_type": "stream",
     "text": [
      "[[['RED', 'GREEN']], ['Medium'], [['ORANGE']], ['Large']]\n"
     ]
    }
   ],
   "source": [
    "dict1 = {\n",
    "    'grape': {\n",
    "        'type': 'fruit',\n",
    "        'colors': ['red', 'green'],\n",
    "        'size': 'small',\n",
    "    },\n",
    "    'carrot': {\n",
    "        'type': 'vegetable',\n",
    "        'colors': ['orange'],\n",
    "        'size': 'medium',\n",
    "    },\n",
    "    'apricot': {\n",
    "        'type': 'fruit',\n",
    "        'colors': ['orange'],\n",
    "        'size': 'medium',\n",
    "    },\n",
    "    'marrow': {\n",
    "        'type': 'vegetable',\n",
    "        'colors': ['green'],\n",
    "        'size': 'large',\n",
    "    },\n",
    "}\n",
    "\n",
    "FRUITS = ['grape', 'apricot']\n",
    "new_list = []\n",
    "for key, value in dict1.items():\n",
    "    sub_list = []\n",
    "    if key not in FRUITS:\n",
    "        sub_list.append(value['size'].capitalize())\n",
    "    else:\n",
    "        sub_list.append([color.upper() for color in value['colors']])\n",
    "    \n",
    "    new_list.append(sub_list)\n",
    "\n",
    "print(new_list)\n",
    "        "
   ]
  },
  {
   "cell_type": "code",
   "execution_count": 245,
   "id": "1304e8cd-6a2a-4137-857e-f31e3d3ced28",
   "metadata": {},
   "outputs": [
    {
     "name": "stdout",
     "output_type": "stream",
     "text": [
      "[{'e': [[8]]}, {'f': [[6, 10]]}]\n"
     ]
    }
   ],
   "source": [
    "lst = [\n",
    "    {'a': [1, 2, 3]},\n",
    "    {'b': [2, 4, 6], 'c': [3, 6], 'd': [4]},\n",
    "    {'e': [8], 'f': [6, 10]},\n",
    "]\n",
    "new_list = []\n",
    "def process_dictionary(dictionary):\n",
    "    all_even = True\n",
    "    for key, value in dictionary.items():\n",
    "        if all(num % 2 != 0 for num in value):\n",
    "            all_even = False\n",
    "    if all_even:\n",
    "        for key, value in dictionary.items():\n",
    "            new_list.append({key:[value]})    \n",
    "\n",
    "    print(new_list)\n",
    "\n",
    "process_dictionary(lst[2])\n"
   ]
  },
  {
   "cell_type": "code",
   "execution_count": 247,
   "id": "5fa13192-d8c1-4789-be98-53e35903b701",
   "metadata": {},
   "outputs": [
    {
     "name": "stdout",
     "output_type": "stream",
     "text": [
      "[]\n"
     ]
    }
   ],
   "source": [
    "lst = [\n",
    "    {'a': [1, 2, 3]},\n",
    "    {'b': [2, 4, 6], 'c': [3, 6], 'd': [4]},\n",
    "    {'e': [8], 'f': [6, 10]},\n",
    "]\n",
    "\n",
    "def list_is_even(lst):\n",
    "    return all([num % 2 == 0 for num in lst])\n",
    "\n",
    "def all_even(lst):\n",
    "    lists_are_even = \n",
    "\n",
    "    return all(lists_are_even)\n",
    "\n",
    "result = []\n",
    "print(result)"
   ]
  },
  {
   "cell_type": "code",
   "execution_count": 18,
   "id": "053c7e87-51f9-4804-bd38-a8faa4a33ab5",
   "metadata": {},
   "outputs": [
    {
     "name": "stdout",
     "output_type": "stream",
     "text": [
      "444\n"
     ]
    }
   ],
   "source": [
    "munsters = {\n",
    "    'Herman':  {'age': 32,  'gender': 'male'},\n",
    "    'Lily':    {'age': 30,  'gender': 'female'},\n",
    "    'Grandpa': {'age': 402, 'gender': 'male'},\n",
    "    'Eddie':   {'age': 10,  'gender': 'male'},\n",
    "    'Marilyn': {'age': 23,  'gender': 'female'},\n",
    "}\n",
    "\n",
    "total_age = 0\n",
    "for member in munsters.values(): \n",
    "    if member['gender'] == 'male':\n",
    "        total_age += member['age']\n",
    "print(total_age)"
   ]
  },
  {
   "cell_type": "code",
   "execution_count": 19,
   "id": "508ad399-302f-44da-b248-c1bd16913bc6",
   "metadata": {},
   "outputs": [
    {
     "name": "stdout",
     "output_type": "stream",
     "text": [
      "444\n"
     ]
    }
   ],
   "source": [
    "munsters = {\n",
    "    'Herman':  {'age': 32,  'gender': 'male'},\n",
    "    'Lily':    {'age': 30,  'gender': 'female'},\n",
    "    'Grandpa': {'age': 402, 'gender': 'male'},\n",
    "    'Eddie':   {'age': 10,  'gender': 'male'},\n",
    "    'Marilyn': {'age': 23,  'gender': 'female'},\n",
    "}\n",
    "\n",
    "print(sum([member['age'] for member in munsters.values() if member['gender'] == 'male']))"
   ]
  },
  {
   "cell_type": "code",
   "execution_count": 21,
   "id": "e3ae5307-9db0-461d-83e4-8cf9baef8eba",
   "metadata": {},
   "outputs": [
    {
     "name": "stdout",
     "output_type": "stream",
     "text": [
      "876jhk-ji32\n"
     ]
    }
   ],
   "source": [
    "str_1 = '876jhk'\n",
    "str2 = 'ji32'\n",
    "print(f\"{str_1}-{str2}\")"
   ]
  },
  {
   "cell_type": "markdown",
   "id": "055a92ad-18fe-42d4-8d73-8048e46aa489",
   "metadata": {},
   "source": [
    "import random\n",
    "chars = ['1234567890abcdef']\n",
    "print(random(list(chars)))"
   ]
  },
  {
   "cell_type": "code",
   "execution_count": 51,
   "id": "ecb6ba01-a2e0-41e5-bd18-fa47b0e1c6f5",
   "metadata": {},
   "outputs": [
    {
     "data": {
      "text/plain": [
       "'a491628f-7024-caf1-0e2b-7546ed89a30b'"
      ]
     },
     "execution_count": 51,
     "metadata": {},
     "output_type": "execute_result"
    }
   ],
   "source": [
    "import random\n",
    "\n",
    "def generate_uuid():\n",
    "    HEXADECIMAL_CHARS = \"0123456789abcdef\"\n",
    "    uuid = ''\n",
    "    components = {\n",
    "        1: {'count': 8, 'str_chars': \"\"},\n",
    "        2: {'count': 4, 'str_chars': \"\"},\n",
    "        3: {'count': 4, 'str_chars': \"\"},\n",
    "        4: {'count': 4, 'str_chars': \"\"},\n",
    "        5: {'count': 12, 'str_chars': \"\"}\n",
    "    }\n",
    "    for value in components.values(): \n",
    "        rand_chars = random.sample(HEXADECIMAL_CHARS, k=value['count'])\n",
    "        value['str_chars'] = \"\".join(rand_chars)\n",
    "    \n",
    "    uuid = \"-\".join(value['str_chars'] for value in components.values())\n",
    "\n",
    "    return(uuid)\n",
    "\n",
    "generate_uuid()"
   ]
  },
  {
   "cell_type": "code",
   "execution_count": 62,
   "id": "0003e975-b2be-4ccf-9fe2-108cc6bfec2f",
   "metadata": {},
   "outputs": [
    {
     "name": "stdout",
     "output_type": "stream",
     "text": [
      "['e', 'u', 'i', 'o', 'o', 'u', 'e', 'o', 'e', 'e', 'a', 'o']\n"
     ]
    }
   ],
   "source": [
    "dict1 = {\n",
    "    'first':  ['the', 'quick'],\n",
    "    'second': ['brown', 'fox'],\n",
    "    'third':  ['jumped'],\n",
    "    'fourth': ['over', 'the', 'lazy', 'dog'],\n",
    "}\n",
    "\n",
    "VOWELS = 'aeiou'\n",
    "list_of_vowels = []\n",
    "for list_of_words in dict1.values():\n",
    "    for word in list_of_words:\n",
    "        for char in list(word):\n",
    "            if char.lower() in VOWELS:\n",
    "                list_of_vowels.append(char)\n",
    "\n",
    "print(list_of_vowels)\n",
    "# ['e', 'u', 'i', 'o', 'o', 'u', 'e', 'o', 'e', 'e', 'a', 'o']"
   ]
  },
  {
   "cell_type": "code",
   "execution_count": 57,
   "id": "00959d05-a767-4b94-bd41-ae8d94266167",
   "metadata": {},
   "outputs": [
    {
     "data": {
      "text/plain": [
       "False"
      ]
     },
     "execution_count": 57,
     "metadata": {},
     "output_type": "execute_result"
    }
   ],
   "source": [
    "'z' in 'Jason'"
   ]
  },
  {
   "cell_type": "code",
   "execution_count": 69,
   "id": "8bdc3c32-9bfe-4ece-90c8-1bbf9ba2edef",
   "metadata": {},
   "outputs": [
    {
     "name": "stdout",
     "output_type": "stream",
     "text": [
      "['e', 'u', 'i', 'o', 'o', 'u', 'e', 'o', 'e', 'e', 'a', 'o']\n"
     ]
    }
   ],
   "source": [
    "dict1 = {\n",
    "    'first':  ['the', 'quick'],\n",
    "    'second': ['brown', 'fox'],\n",
    "    'third':  ['jumped'],\n",
    "    'fourth': ['over', 'the', 'lazy', 'dog'],\n",
    "}\n",
    "\n",
    "VOWELS = 'aeiou'\n",
    "list_of_vowels = [char for list_of_words in dict1.values()\n",
    "                  for word in list_of_words\n",
    "                  for char in word if char.lower() in VOWELS]\n",
    "\n",
    "print(list_of_vowels)"
   ]
  },
  {
   "cell_type": "code",
   "execution_count": 71,
   "id": "fc427b99-b0aa-40a1-92b8-6f5ff633f2ad",
   "metadata": {},
   "outputs": [
    {
     "ename": "AttributeError",
     "evalue": "'dict' object has no attribute 'first' and no __dict__ for setting new attributes",
     "output_type": "error",
     "traceback": [
      "\u001b[0;31m---------------------------------------------------------------------------\u001b[0m",
      "\u001b[0;31mAttributeError\u001b[0m                            Traceback (most recent call last)",
      "Cell \u001b[0;32mIn[71], line 7\u001b[0m\n\u001b[1;32m      1\u001b[0m dict1 \u001b[38;5;241m=\u001b[39m {\n\u001b[1;32m      2\u001b[0m     \u001b[38;5;124m'\u001b[39m\u001b[38;5;124mfirst\u001b[39m\u001b[38;5;124m'\u001b[39m:  [\u001b[38;5;124m'\u001b[39m\u001b[38;5;124mthe\u001b[39m\u001b[38;5;124m'\u001b[39m, \u001b[38;5;124m'\u001b[39m\u001b[38;5;124mquick\u001b[39m\u001b[38;5;124m'\u001b[39m],\n\u001b[1;32m      3\u001b[0m     \u001b[38;5;124m'\u001b[39m\u001b[38;5;124msecond\u001b[39m\u001b[38;5;124m'\u001b[39m: [\u001b[38;5;124m'\u001b[39m\u001b[38;5;124mbrown\u001b[39m\u001b[38;5;124m'\u001b[39m, \u001b[38;5;124m'\u001b[39m\u001b[38;5;124mfox\u001b[39m\u001b[38;5;124m'\u001b[39m],\n\u001b[1;32m      4\u001b[0m     \u001b[38;5;124m'\u001b[39m\u001b[38;5;124mthird\u001b[39m\u001b[38;5;124m'\u001b[39m:  [\u001b[38;5;124m'\u001b[39m\u001b[38;5;124mjumped\u001b[39m\u001b[38;5;124m'\u001b[39m],\n\u001b[1;32m      5\u001b[0m     \u001b[38;5;124m'\u001b[39m\u001b[38;5;124mfourth\u001b[39m\u001b[38;5;124m'\u001b[39m: [\u001b[38;5;124m'\u001b[39m\u001b[38;5;124mover\u001b[39m\u001b[38;5;124m'\u001b[39m, \u001b[38;5;124m'\u001b[39m\u001b[38;5;124mthe\u001b[39m\u001b[38;5;124m'\u001b[39m, \u001b[38;5;124m'\u001b[39m\u001b[38;5;124mlazy\u001b[39m\u001b[38;5;124m'\u001b[39m, \u001b[38;5;124m'\u001b[39m\u001b[38;5;124mdog\u001b[39m\u001b[38;5;124m'\u001b[39m],\n\u001b[1;32m      6\u001b[0m }\n\u001b[0;32m----> 7\u001b[0m \u001b[43mdict1\u001b[49m\u001b[38;5;241;43m.\u001b[39;49m\u001b[43mfirst\u001b[49m \u001b[38;5;241m=\u001b[39m []\n",
      "\u001b[0;31mAttributeError\u001b[0m: 'dict' object has no attribute 'first' and no __dict__ for setting new attributes"
     ]
    }
   ],
   "source": [
    "dict1 = {\n",
    "    'first':  ['the', 'quick'],\n",
    "    'second': ['brown', 'fox'],\n",
    "    'third':  ['jumped'],\n",
    "    'fourth': ['over', 'the', 'lazy', 'dog'],\n",
    "}\n",
    "dict1.first = []"
   ]
  },
  {
   "cell_type": "code",
   "execution_count": null,
   "id": "54093a7d-ca78-425e-98da-451448931db4",
   "metadata": {},
   "outputs": [],
   "source": []
  }
 ],
 "metadata": {
  "kernelspec": {
   "display_name": "Python 3 (ipykernel)",
   "language": "python",
   "name": "python3"
  },
  "language_info": {
   "codemirror_mode": {
    "name": "ipython",
    "version": 3
   },
   "file_extension": ".py",
   "mimetype": "text/x-python",
   "name": "python",
   "nbconvert_exporter": "python",
   "pygments_lexer": "ipython3",
   "version": "3.13.1"
  }
 },
 "nbformat": 4,
 "nbformat_minor": 5
}
