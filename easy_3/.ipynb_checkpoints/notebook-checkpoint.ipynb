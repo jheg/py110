{
 "cells": [
  {
   "cell_type": "code",
   "execution_count": 47,
   "id": "c567f1db-f691-4924-b40f-7ec1d847ee6c",
   "metadata": {},
   "outputs": [
    {
     "name": "stdout",
     "output_type": "stream",
     "text": [
      "True\n",
      "True\n",
      "True\n",
      "True\n",
      "True\n",
      "True\n",
      "True\n"
     ]
    }
   ],
   "source": [
    "def get_hours(total_minutes):\n",
    "    hours = (total_minutes // 60) % 24\n",
    "    hours = hours if hours >= 0 else hours + 24\n",
    "    \n",
    "    return hours\n",
    "\n",
    "def get_minutes(total_minutes):\n",
    "    minutes = total_minutes % 60\n",
    "    minutes = minutes if minutes >= 0 else minutes + 60\n",
    "    \n",
    "    return minutes\n",
    "\n",
    "def time_of_day(total_minutes):\n",
    "    hours = get_hours(total_minutes)\n",
    "    minutes = get_minutes(total_minutes)\n",
    "    formatted_time = f\"{hours:02}:{minutes:02}\"\n",
    "    \n",
    "    return formatted_time\n",
    "\n",
    "print(time_of_day(0) == \"00:00\")        # True\n",
    "print(time_of_day(-3) == \"23:57\")       # True\n",
    "print(time_of_day(35) == \"00:35\")       # True\n",
    "print(time_of_day(-1437) == \"00:03\")    # True\n",
    "print(time_of_day(3000) == \"02:00\")     # True\n",
    "print(time_of_day(800) == \"13:20\")      # True\n",
    "print(time_of_day(-4231) == \"01:29\")    # True"
   ]
  },
  {
   "cell_type": "code",
   "execution_count": 94,
   "id": "d080258e-73e0-44ae-a699-f62a80ae40f2",
   "metadata": {},
   "outputs": [
    {
     "name": "stdout",
     "output_type": "stream",
     "text": [
      "True\n",
      "True\n",
      "True\n",
      "True\n",
      "True\n",
      "True\n"
     ]
    }
   ],
   "source": [
    "def get_hours_and_minutes(time):\n",
    "    total_minutes = 0\n",
    "    if not (time == \"24:00\" or time == \"00:00\"):\n",
    "        hours = int(time[0:2])\n",
    "        minutes = int(time[3:5])\n",
    "        total_minutes = (hours * 60) + minutes\n",
    "    \n",
    "    return total_minutes\n",
    "    \n",
    "def after_midnight(time):\n",
    "    mins_after_midnight = get_hours_and_minutes(time)\n",
    "    \n",
    "    return mins_after_midnight\n",
    "\n",
    "def before_midnight(time):\n",
    "    mins_before_midnight = get_hours_and_minutes(time)\n",
    "    if mins_before_midnight == 0:\n",
    "        return mins_before_midnight\n",
    "    else:\n",
    "        return abs((mins_before_midnight - 1440))\n",
    "\n",
    "print(after_midnight(\"00:00\") == 0)     # True\n",
    "print(before_midnight(\"00:00\") == 0)    # True\n",
    "print(after_midnight(\"12:34\") == 754)   # True\n",
    "print(before_midnight(\"12:34\") == 686)  # True\n",
    "print(after_midnight(\"24:00\") == 0)     # True\n",
    "print(before_midnight(\"24:00\") == 0)    # True"
   ]
  },
  {
   "cell_type": "code",
   "execution_count": 103,
   "id": "5e423470-0c4d-4418-a401-9db147194088",
   "metadata": {},
   "outputs": [
    {
     "name": "stdout",
     "output_type": "stream",
     "text": [
      "GG\n",
      "oo\n",
      "oo\n",
      "dd\n",
      "  \n",
      "jj\n",
      "oo\n",
      "bb\n",
      "!!\n",
      "['G', 'o', 'o', 'd', ' ', 'j', 'o', 'b', '!']\n"
     ]
    }
   ],
   "source": [
    "split_string = list('Good job!')\n",
    "for char in split_string:\n",
    "    print(char * 2)\n",
    "print(split_string)"
   ]
  },
  {
   "cell_type": "code",
   "execution_count": 104,
   "id": "1c17a789-d85b-4f9a-ad96-1a4c5b1cf6ba",
   "metadata": {},
   "outputs": [
    {
     "name": "stdout",
     "output_type": "stream",
     "text": [
      "['HH', 'ee', 'll', 'll', 'oo']\n",
      "False\n",
      "['GG', 'oo', 'oo', 'dd', '  ', 'jj', 'oo', 'bb', '!!']\n",
      "False\n",
      "[]\n",
      "False\n"
     ]
    }
   ],
   "source": [
    "def repeater(text):\n",
    "    text_list = list(text)\n",
    "    list_of_repeats = []\n",
    "    for char in text_list: \n",
    "        list_of_repeats.append(char * 2)\n",
    "\n",
    "    print(list_of_repeats.join())\n",
    "\n",
    "print(repeater('Hello') == \"HHeelllloo\")              # True\n",
    "print(repeater('Good job!') == \"GGoooodd  jjoobb!!\")  # True\n",
    "print(repeater('') == \"\")                             # True"
   ]
  },
  {
   "cell_type": "code",
   "execution_count": null,
   "id": "f9888b32-9ef1-4e24-ba81-f414da0aafae",
   "metadata": {},
   "outputs": [],
   "source": []
  }
 ],
 "metadata": {
  "kernelspec": {
   "display_name": "Python 3 (ipykernel)",
   "language": "python",
   "name": "python3"
  },
  "language_info": {
   "codemirror_mode": {
    "name": "ipython",
    "version": 3
   },
   "file_extension": ".py",
   "mimetype": "text/x-python",
   "name": "python",
   "nbconvert_exporter": "python",
   "pygments_lexer": "ipython3",
   "version": "3.13.1"
  }
 },
 "nbformat": 4,
 "nbformat_minor": 5
}
