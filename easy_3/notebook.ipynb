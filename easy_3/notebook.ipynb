{
 "cells": [
  {
   "cell_type": "code",
   "execution_count": 47,
   "id": "c567f1db-f691-4924-b40f-7ec1d847ee6c",
   "metadata": {},
   "outputs": [
    {
     "name": "stdout",
     "output_type": "stream",
     "text": [
      "True\n",
      "True\n",
      "True\n",
      "True\n",
      "True\n",
      "True\n",
      "True\n"
     ]
    }
   ],
   "source": [
    "def get_hours(total_minutes):\n",
    "    hours = (total_minutes // 60) % 24\n",
    "    hours = hours if hours >= 0 else hours + 24\n",
    "    \n",
    "    return hours\n",
    "\n",
    "def get_minutes(total_minutes):\n",
    "    minutes = total_minutes % 60\n",
    "    minutes = minutes if minutes >= 0 else minutes + 60\n",
    "    \n",
    "    return minutes\n",
    "\n",
    "def time_of_day(total_minutes):\n",
    "    hours = get_hours(total_minutes)\n",
    "    minutes = get_minutes(total_minutes)\n",
    "    formatted_time = f\"{hours:02}:{minutes:02}\"\n",
    "    \n",
    "    return formatted_time\n",
    "\n",
    "print(time_of_day(0) == \"00:00\")        # True\n",
    "print(time_of_day(-3) == \"23:57\")       # True\n",
    "print(time_of_day(35) == \"00:35\")       # True\n",
    "print(time_of_day(-1437) == \"00:03\")    # True\n",
    "print(time_of_day(3000) == \"02:00\")     # True\n",
    "print(time_of_day(800) == \"13:20\")      # True\n",
    "print(time_of_day(-4231) == \"01:29\")    # True"
   ]
  },
  {
   "cell_type": "code",
   "execution_count": 94,
   "id": "d080258e-73e0-44ae-a699-f62a80ae40f2",
   "metadata": {},
   "outputs": [
    {
     "name": "stdout",
     "output_type": "stream",
     "text": [
      "True\n",
      "True\n",
      "True\n",
      "True\n",
      "True\n",
      "True\n"
     ]
    }
   ],
   "source": [
    "def get_hours_and_minutes(time):\n",
    "    total_minutes = 0\n",
    "    if not (time == \"24:00\" or time == \"00:00\"):\n",
    "        hours = int(time[0:2])\n",
    "        minutes = int(time[3:5])\n",
    "        total_minutes = (hours * 60) + minutes\n",
    "    \n",
    "    return total_minutes\n",
    "    \n",
    "def after_midnight(time):\n",
    "    mins_after_midnight = get_hours_and_minutes(time)\n",
    "    \n",
    "    return mins_after_midnight\n",
    "\n",
    "def before_midnight(time):\n",
    "    mins_before_midnight = get_hours_and_minutes(time)\n",
    "    if mins_before_midnight == 0:\n",
    "        return mins_before_midnight\n",
    "    else:\n",
    "        return abs((mins_before_midnight - 1440))\n",
    "\n",
    "print(after_midnight(\"00:00\") == 0)     # True\n",
    "print(before_midnight(\"00:00\") == 0)    # True\n",
    "print(after_midnight(\"12:34\") == 754)   # True\n",
    "print(before_midnight(\"12:34\") == 686)  # True\n",
    "print(after_midnight(\"24:00\") == 0)     # True\n",
    "print(before_midnight(\"24:00\") == 0)    # True"
   ]
  },
  {
   "cell_type": "code",
   "execution_count": 103,
   "id": "5e423470-0c4d-4418-a401-9db147194088",
   "metadata": {},
   "outputs": [
    {
     "name": "stdout",
     "output_type": "stream",
     "text": [
      "GG\n",
      "oo\n",
      "oo\n",
      "dd\n",
      "  \n",
      "jj\n",
      "oo\n",
      "bb\n",
      "!!\n",
      "['G', 'o', 'o', 'd', ' ', 'j', 'o', 'b', '!']\n"
     ]
    }
   ],
   "source": [
    "split_string = list('Good job!')\n",
    "for char in split_string:\n",
    "    print(char * 2)\n",
    "print(split_string)"
   ]
  },
  {
   "cell_type": "code",
   "execution_count": 107,
   "id": "1c17a789-d85b-4f9a-ad96-1a4c5b1cf6ba",
   "metadata": {},
   "outputs": [
    {
     "name": "stdout",
     "output_type": "stream",
     "text": [
      "True\n",
      "True\n",
      "True\n"
     ]
    }
   ],
   "source": [
    "def repeater(text):\n",
    "    text_list = list(text)\n",
    "    list_of_repeats = []\n",
    "    for char in text_list: \n",
    "        list_of_repeats.append(char * 2)\n",
    "\n",
    "    return \"\".join(list_of_repeats)\n",
    "\n",
    "print(repeater('Hello') == \"HHeelllloo\")              # True\n",
    "print(repeater('Good job!') == \"GGoooodd  jjoobb!!\")  # True\n",
    "print(repeater('') == \"\")                             # True"
   ]
  },
  {
   "cell_type": "code",
   "execution_count": 108,
   "id": "f9888b32-9ef1-4e24-ba81-f414da0aafae",
   "metadata": {},
   "outputs": [
    {
     "name": "stdout",
     "output_type": "stream",
     "text": [
      "True\n",
      "True\n",
      "True\n"
     ]
    }
   ],
   "source": [
    "def repeater(text):\n",
    "    return \"\".join(char * 2 for char in text)\n",
    "    \n",
    "print(repeater('Hello') == \"HHeelllloo\")              # True\n",
    "print(repeater('Good job!') == \"GGoooodd  jjoobb!!\")  # True\n",
    "print(repeater('') == \"\")                             # True"
   ]
  },
  {
   "cell_type": "code",
   "execution_count": 115,
   "id": "498d8095-dceb-4551-b3e5-df0d464f1f23",
   "metadata": {},
   "outputs": [
    {
     "name": "stdout",
     "output_type": "stream",
     "text": [
      "True\n",
      "True\n",
      "True\n",
      "True\n"
     ]
    }
   ],
   "source": [
    "VOWELS = 'aeiou'\n",
    "\n",
    "def double_consonants(text):\n",
    "    converted_list = []\n",
    "    for char in list(text):\n",
    "        if not (char in VOWELS) and (char.isalpha()):\n",
    "            converted_list.append(char * 2)\n",
    "        else:\n",
    "            converted_list.append(char)\n",
    "\n",
    "    return \"\".join(converted_list)\n",
    "\n",
    "# All of these examples should print True\n",
    "print(double_consonants('String') == \"SSttrrinngg\")\n",
    "print(double_consonants('Hello-World!') == \"HHellllo-WWorrlldd!\")\n",
    "print(double_consonants('July 4th') == \"JJullyy 4tthh\")\n",
    "print(double_consonants('') == \"\")"
   ]
  },
  {
   "cell_type": "code",
   "execution_count": 130,
   "id": "af8b911d-3e91-41f0-96cd-f5e622612c49",
   "metadata": {},
   "outputs": [
    {
     "name": "stdout",
     "output_type": "stream",
     "text": [
      "True\n",
      "True\n",
      "True\n",
      "True\n",
      "True\n"
     ]
    }
   ],
   "source": [
    "def reverse_number(number):\n",
    "    return int(str(number)[::-1])\n",
    "\n",
    "print(reverse_number(12345) == 54321)   # True\n",
    "print(reverse_number(12213) == 31221)   # True\n",
    "print(reverse_number(456) == 654)       # True\n",
    "print(reverse_number(1) == 1)           # True\n",
    "print(reverse_number(12000) == 21)      # True"
   ]
  },
  {
   "cell_type": "code",
   "execution_count": 133,
   "id": "f2210f97-ea52-4358-88ab-26d4aaaa8d58",
   "metadata": {},
   "outputs": [
    {
     "name": "stdout",
     "output_type": "stream",
     "text": [
      "True\n",
      "True\n",
      "True\n"
     ]
    }
   ],
   "source": [
    "def sequence(number):\n",
    "    return list(range(1, number + 1))\n",
    "\n",
    "print(sequence(5) == [1, 2, 3, 4, 5])   # True\n",
    "print(sequence(3) == [1, 2, 3])         # True\n",
    "print(sequence(1) == [1])               # True"
   ]
  },
  {
   "cell_type": "code",
   "execution_count": 144,
   "id": "b78f7b00-0ee1-44cd-8eae-e9446f3de2dd",
   "metadata": {},
   "outputs": [
    {
     "name": "stdout",
     "output_type": "stream",
     "text": [
      "True\n"
     ]
    }
   ],
   "source": [
    "def swap_name(name):\n",
    "    return \", \".join(name.split()[::-1])\n",
    "\n",
    "print(swap_name('Joe Roberts') == \"Roberts, Joe\")   # True"
   ]
  },
  {
   "cell_type": "code",
   "execution_count": 136,
   "id": "578c4d1f-ff78-4e01-a7cb-6a6307f9d39b",
   "metadata": {},
   "outputs": [
    {
     "data": {
      "text/plain": [
       "'Hegarty,'"
      ]
     },
     "execution_count": 136,
     "metadata": {},
     "output_type": "execute_result"
    }
   ],
   "source": [
    "\"Hegarty\" + \",\""
   ]
  },
  {
   "cell_type": "code",
   "execution_count": 146,
   "id": "ccb113c2-3c70-40d9-bf96-532e73763c3a",
   "metadata": {},
   "outputs": [
    {
     "name": "stdout",
     "output_type": "stream",
     "text": [
      "dog\n"
     ]
    }
   ],
   "source": [
    "name = \"dog\"\n",
    "name.replace('d', 'D')\n",
    "print(name)"
   ]
  },
  {
   "cell_type": "code",
   "execution_count": 152,
   "id": "184c4117-92ae-4bca-a431-7da23197337d",
   "metadata": {},
   "outputs": [
    {
     "ename": "AttributeError",
     "evalue": "'dict' object has no attribute 'append'",
     "output_type": "error",
     "traceback": [
      "\u001b[0;31m---------------------------------------------------------------------------\u001b[0m",
      "\u001b[0;31mAttributeError\u001b[0m                            Traceback (most recent call last)",
      "Cell \u001b[0;32mIn[152], line 7\u001b[0m\n\u001b[1;32m      1\u001b[0m my_dict \u001b[38;5;241m=\u001b[39m {\n\u001b[1;32m      2\u001b[0m     \u001b[38;5;124m'\u001b[39m\u001b[38;5;124mx\u001b[39m\u001b[38;5;124m'\u001b[39m: \u001b[38;5;124m\"\u001b[39m\u001b[38;5;124ment1\u001b[39m\u001b[38;5;124m\"\u001b[39m,\n\u001b[1;32m      3\u001b[0m     \u001b[38;5;124m'\u001b[39m\u001b[38;5;124my\u001b[39m\u001b[38;5;124m'\u001b[39m: \u001b[38;5;124m\"\u001b[39m\u001b[38;5;124ment2\u001b[39m\u001b[38;5;124m\"\u001b[39m,\n\u001b[1;32m      4\u001b[0m }\n\u001b[1;32m      6\u001b[0m \u001b[38;5;124m'\u001b[39m\u001b[38;5;124mx\u001b[39m\u001b[38;5;124m'\u001b[39m \u001b[38;5;129;01min\u001b[39;00m my_dict\u001b[38;5;241m.\u001b[39mkeys()\n\u001b[0;32m----> 7\u001b[0m \u001b[43mmy_dict\u001b[49m\u001b[38;5;241;43m.\u001b[39;49m\u001b[43mappend\u001b[49m(\u001b[38;5;124m'\u001b[39m\u001b[38;5;124mz\u001b[39m\u001b[38;5;124m'\u001b[39m, \u001b[38;5;124m'\u001b[39m\u001b[38;5;124ment3\u001b[39m\u001b[38;5;124m'\u001b[39m)\n",
      "\u001b[0;31mAttributeError\u001b[0m: 'dict' object has no attribute 'append'"
     ]
    }
   ],
   "source": [
    "my_dict = {\n",
    "    'x': \"ent1\",\n",
    "    'y': \"ent2\",\n",
    "}\n",
    "\n",
    "'x' in my_dict.keys()\n",
    "my_dict.append('z', 'ent3')"
   ]
  },
  {
   "cell_type": "code",
   "execution_count": 155,
   "id": "38ac7a25-73b3-4b91-9b92-8b9234a1f9e7",
   "metadata": {},
   "outputs": [
    {
     "name": "stdout",
     "output_type": "stream",
     "text": [
      "['one', 'two', 'three', 'four']\n"
     ]
    }
   ],
   "source": [
    "words = \"one two three four\"\n",
    "print(words.split(' '))"
   ]
  },
  {
   "cell_type": "code",
   "execution_count": 156,
   "id": "82b23b07-0780-46ad-9068-953bc89492bc",
   "metadata": {},
   "outputs": [
    {
     "data": {
      "text/plain": [
       "'e t'"
      ]
     },
     "execution_count": 156,
     "metadata": {},
     "output_type": "execute_result"
    }
   ],
   "source": [
    "words[2:5]"
   ]
  },
  {
   "cell_type": "code",
   "execution_count": 157,
   "id": "2751aa13-dc52-4e90-a3d4-743d605b8154",
   "metadata": {},
   "outputs": [
    {
     "data": {
      "text/plain": [
       "range(1, 1)"
      ]
     },
     "execution_count": 157,
     "metadata": {},
     "output_type": "execute_result"
    }
   ],
   "source": [
    "range(1,1)"
   ]
  },
  {
   "cell_type": "code",
   "execution_count": 160,
   "id": "77651235-0fbc-4db5-8c0c-5797e550006c",
   "metadata": {},
   "outputs": [
    {
     "name": "stdout",
     "output_type": "stream",
     "text": [
      "1\n"
     ]
    }
   ],
   "source": [
    "for num in range(1, 2):\n",
    "    print(num)"
   ]
  },
  {
   "cell_type": "code",
   "execution_count": 163,
   "id": "1e57b117-73c8-411b-b325-7ea5c7641562",
   "metadata": {},
   "outputs": [
    {
     "name": "stdout",
     "output_type": "stream",
     "text": [
      "[1, 2, 3, 3, 4, 5]\n"
     ]
    }
   ],
   "source": [
    "list1 = [1, 2, 3]\n",
    "list2 = [3, 4, 5]\n",
    "list1.extend(list2)\n",
    "print(list1)"
   ]
  },
  {
   "cell_type": "code",
   "execution_count": 164,
   "id": "30b0a235-f2ab-4617-83e2-c9d217722b69",
   "metadata": {},
   "outputs": [
    {
     "name": "stdout",
     "output_type": "stream",
     "text": [
      "Help on class list in module builtins:\n",
      "\n",
      "class list(object)\n",
      " |  list(iterable=(), /)\n",
      " |\n",
      " |  Built-in mutable sequence.\n",
      " |\n",
      " |  If no argument is given, the constructor creates a new empty list.\n",
      " |  The argument must be an iterable if specified.\n",
      " |\n",
      " |  Methods defined here:\n",
      " |\n",
      " |  __add__(self, value, /)\n",
      " |      Return self+value.\n",
      " |\n",
      " |  __contains__(self, key, /)\n",
      " |      Return bool(key in self).\n",
      " |\n",
      " |  __delitem__(self, key, /)\n",
      " |      Delete self[key].\n",
      " |\n",
      " |  __eq__(self, value, /)\n",
      " |      Return self==value.\n",
      " |\n",
      " |  __ge__(self, value, /)\n",
      " |      Return self>=value.\n",
      " |\n",
      " |  __getattribute__(self, name, /)\n",
      " |      Return getattr(self, name).\n",
      " |\n",
      " |  __getitem__(self, index, /)\n",
      " |      Return self[index].\n",
      " |\n",
      " |  __gt__(self, value, /)\n",
      " |      Return self>value.\n",
      " |\n",
      " |  __iadd__(self, value, /)\n",
      " |      Implement self+=value.\n",
      " |\n",
      " |  __imul__(self, value, /)\n",
      " |      Implement self*=value.\n",
      " |\n",
      " |  __init__(self, /, *args, **kwargs)\n",
      " |      Initialize self.  See help(type(self)) for accurate signature.\n",
      " |\n",
      " |  __iter__(self, /)\n",
      " |      Implement iter(self).\n",
      " |\n",
      " |  __le__(self, value, /)\n",
      " |      Return self<=value.\n",
      " |\n",
      " |  __len__(self, /)\n",
      " |      Return len(self).\n",
      " |\n",
      " |  __lt__(self, value, /)\n",
      " |      Return self<value.\n",
      " |\n",
      " |  __mul__(self, value, /)\n",
      " |      Return self*value.\n",
      " |\n",
      " |  __ne__(self, value, /)\n",
      " |      Return self!=value.\n",
      " |\n",
      " |  __repr__(self, /)\n",
      " |      Return repr(self).\n",
      " |\n",
      " |  __reversed__(self, /)\n",
      " |      Return a reverse iterator over the list.\n",
      " |\n",
      " |  __rmul__(self, value, /)\n",
      " |      Return value*self.\n",
      " |\n",
      " |  __setitem__(self, key, value, /)\n",
      " |      Set self[key] to value.\n",
      " |\n",
      " |  __sizeof__(self, /)\n",
      " |      Return the size of the list in memory, in bytes.\n",
      " |\n",
      " |  append(self, object, /)\n",
      " |      Append object to the end of the list.\n",
      " |\n",
      " |  clear(self, /)\n",
      " |      Remove all items from list.\n",
      " |\n",
      " |  copy(self, /)\n",
      " |      Return a shallow copy of the list.\n",
      " |\n",
      " |  count(self, value, /)\n",
      " |      Return number of occurrences of value.\n",
      " |\n",
      " |  extend(self, iterable, /)\n",
      " |      Extend list by appending elements from the iterable.\n",
      " |\n",
      " |  index(self, value, start=0, stop=9223372036854775807, /)\n",
      " |      Return first index of value.\n",
      " |\n",
      " |      Raises ValueError if the value is not present.\n",
      " |\n",
      " |  insert(self, index, object, /)\n",
      " |      Insert object before index.\n",
      " |\n",
      " |  pop(self, index=-1, /)\n",
      " |      Remove and return item at index (default last).\n",
      " |\n",
      " |      Raises IndexError if list is empty or index is out of range.\n",
      " |\n",
      " |  remove(self, value, /)\n",
      " |      Remove first occurrence of value.\n",
      " |\n",
      " |      Raises ValueError if the value is not present.\n",
      " |\n",
      " |  reverse(self, /)\n",
      " |      Reverse *IN PLACE*.\n",
      " |\n",
      " |  sort(self, /, *, key=None, reverse=False)\n",
      " |      Sort the list in ascending order and return None.\n",
      " |\n",
      " |      The sort is in-place (i.e. the list itself is modified) and stable (i.e. the\n",
      " |      order of two equal elements is maintained).\n",
      " |\n",
      " |      If a key function is given, apply it once to each list item and sort them,\n",
      " |      ascending or descending, according to their function values.\n",
      " |\n",
      " |      The reverse flag can be set to sort in descending order.\n",
      " |\n",
      " |  ----------------------------------------------------------------------\n",
      " |  Class methods defined here:\n",
      " |\n",
      " |  __class_getitem__(object, /)\n",
      " |      See PEP 585\n",
      " |\n",
      " |  ----------------------------------------------------------------------\n",
      " |  Static methods defined here:\n",
      " |\n",
      " |  __new__(*args, **kwargs)\n",
      " |      Create and return a new object.  See help(type) for accurate signature.\n",
      " |\n",
      " |  ----------------------------------------------------------------------\n",
      " |  Data and other attributes defined here:\n",
      " |\n",
      " |  __hash__ = None\n",
      "\n"
     ]
    }
   ],
   "source": [
    "help(list)"
   ]
  },
  {
   "cell_type": "code",
   "execution_count": 165,
   "id": "d79e9fc3-c000-49ff-a9a1-245c4129bc96",
   "metadata": {},
   "outputs": [
    {
     "data": {
      "text/plain": [
       "3"
      ]
     },
     "execution_count": 165,
     "metadata": {},
     "output_type": "execute_result"
    }
   ],
   "source": [
    "list1 = [1, 2, 3, [4, 5, 6]]\n",
    "list1.index([4,5,6])"
   ]
  },
  {
   "cell_type": "code",
   "execution_count": 166,
   "id": "a86f3763-976d-497a-89da-6be417987cdf",
   "metadata": {},
   "outputs": [
    {
     "data": {
      "text/plain": [
       "3"
      ]
     },
     "execution_count": 166,
     "metadata": {},
     "output_type": "execute_result"
    }
   ],
   "source": [
    "my_list = [1, 2, None]\n",
    "len(my_list)"
   ]
  },
  {
   "cell_type": "code",
   "execution_count": 167,
   "id": "657df530-f03d-4d59-baa9-a3c9a2bc6538",
   "metadata": {},
   "outputs": [
    {
     "ename": "NameError",
     "evalue": "name 'frozen_set' is not defined",
     "output_type": "error",
     "traceback": [
      "\u001b[0;31m---------------------------------------------------------------------------\u001b[0m",
      "\u001b[0;31mNameError\u001b[0m                                 Traceback (most recent call last)",
      "Cell \u001b[0;32mIn[167], line 1\u001b[0m\n\u001b[0;32m----> 1\u001b[0m help(\u001b[43mfrozen_set\u001b[49m)\n",
      "\u001b[0;31mNameError\u001b[0m: name 'frozen_set' is not defined"
     ]
    }
   ],
   "source": [
    "help(frozen_set)"
   ]
  },
  {
   "cell_type": "code",
   "execution_count": null,
   "id": "8c743121-01f3-4597-8af2-a382b5800e45",
   "metadata": {},
   "outputs": [],
   "source": []
  }
 ],
 "metadata": {
  "kernelspec": {
   "display_name": "Python 3 (ipykernel)",
   "language": "python",
   "name": "python3"
  },
  "language_info": {
   "codemirror_mode": {
    "name": "ipython",
    "version": 3
   },
   "file_extension": ".py",
   "mimetype": "text/x-python",
   "name": "python",
   "nbconvert_exporter": "python",
   "pygments_lexer": "ipython3",
   "version": "3.13.1"
  }
 },
 "nbformat": 4,
 "nbformat_minor": 5
}
